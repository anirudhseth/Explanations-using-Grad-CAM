{
 "metadata": {
  "language_info": {
   "codemirror_mode": {
    "name": "ipython",
    "version": 3
   },
   "file_extension": ".py",
   "mimetype": "text/x-python",
   "name": "python",
   "nbconvert_exporter": "python",
   "pygments_lexer": "ipython3",
   "version": "3.8.5-final"
  },
  "orig_nbformat": 2,
  "kernelspec": {
   "name": "Python 3.8.5 64-bit ('adl': conda)",
   "display_name": "Python 3.8.5 64-bit ('adl': conda)",
   "metadata": {
    "interpreter": {
     "hash": "560912a48d223ed8942c74d5a40335cfcd1364717384493f17f09ab47f161403"
    }
   }
  }
 },
 "nbformat": 4,
 "nbformat_minor": 2,
 "cells": [
  {
   "cell_type": "code",
   "execution_count": 1,
   "metadata": {},
   "outputs": [],
   "source": [
    "from model import load_model\n",
    "from image_utils import imagenet_utils\n",
    "import numpy as np\n",
    "import os\n",
    "\n",
    "from tensorflow import keras\n",
    "from tqdm import tqdm\n",
    "import cv2"
   ]
  },
  {
   "cell_type": "code",
   "execution_count": 2,
   "metadata": {},
   "outputs": [],
   "source": [
    "\n",
    "folder='ILSVRC2012_img_val/'\n",
    "test=load_model('VGG16')\n",
    "model=test.model\n",
    "input_dim=test.input_dim\n",
    "layer_name='block5_conv3'\n",
    "\n",
    "\n",
    "from explanation_models import gradcam,gradcam_robust,gradcam_plusplus,guided_backprop\n",
    "\n",
    "g= gradcam(model,layer_name,input_dim)\n",
    "dict={}"
   ]
  },
  {
   "cell_type": "code",
   "execution_count": 3,
   "metadata": {},
   "outputs": [],
   "source": [
    "for image_name in tqdm(os.listdir(folder)):\n",
    "    img_path=os.path.join(folder,image_name)\n",
    "\n",
    "    img = keras.preprocessing.image.load_img(img_path, target_size=(224, 224))\n",
    "    array = keras.preprocessing.image.img_to_array(img)\n",
    "    array = np.expand_dims(array, axis=0)\n",
    "\n",
    "    preprocess_input =keras.applications.vgg16.preprocess_input\n",
    "\n",
    "    # decode_predictions = keras.applications.vgg16.decode_predictions\n",
    "    preprocessed_input=preprocess_input(array)\n",
    "    top5_indices=np.argsort(-model.predict(preprocessed_input))[0][:5]\n",
    "    heatmap_list=[]\n",
    "    for index in top5_indices:\n",
    "        heatmap_lower_dim=g.get_heatmap(preprocessed_input,index)\n",
    "        heatmap = np.squeeze(heatmap_lower_dim)\n",
    "        heatmap = cv2.resize(heatmap, (array.shape[2], array.shape[1]))\n",
    "        heatmap = -1*heatmap +1\n",
    "        heatmap = np.clip(heatmap, 0., 1.)\n",
    "        heatmap_list.append(heatmap)\n",
    "\n",
    "    dict[image_name]=heatmap_list\n"
   ]
  },
  {
   "cell_type": "code",
   "execution_count": null,
   "metadata": {},
   "outputs": [],
   "source": []
  }
 ]
}