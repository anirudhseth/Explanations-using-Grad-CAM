{
 "cells": [
  {
   "cell_type": "markdown",
   "metadata": {
    "id": "e1_Y75QXJS6h"
   },
   "source": [
    "Adopted from: Deep Convolutional Generative Adversarial Network.https://www.tensorflow.org/tutorials/generative/dcgan. Accessed: 2020-10-23."
   ]
  },
  {
   "cell_type": "code",
   "execution_count": null,
   "metadata": {
    "id": "WZKbyU2-AiY-"
   },
   "outputs": [],
   "source": [
    "import tensorflow as tf"
   ]
  },
  {
   "cell_type": "code",
   "execution_count": null,
   "metadata": {
    "colab": {
     "base_uri": "https://localhost:8080/",
     "height": 36
    },
    "id": "wx-zNbLqB4K8",
    "outputId": "373d58f2-c600-4e8c-90d6-c317947cf7c9"
   },
   "outputs": [],
   "source": [
    "tf.__version__"
   ]
  },
  {
   "cell_type": "code",
   "execution_count": null,
   "metadata": {},
   "outputs": [],
   "source": [
    "# Need this for multiple gpus when running locally\n",
    "gpus = tf.config.experimental.list_physical_devices('GPU')\n",
    "if gpus:\n",
    "    try:\n",
    "        # This line allows the network to use the GPU VRAM uncapped. !!! NEED THIS LINE FOR NETWORK TO RUN !!!\n",
    "        for idx, g in enumerate(gpus):\n",
    "            tf.config.experimental.set_memory_growth(tf.config.experimental.list_physical_devices('GPU')[idx], True)\n",
    "        tf.config.experimental.set_visible_devices(gpus[0], 'GPU')\n",
    "    except RuntimeError as e:\n",
    "        print(e)"
   ]
  },
  {
   "cell_type": "code",
   "execution_count": null,
   "metadata": {
    "colab": {
     "base_uri": "https://localhost:8080/",
     "height": 350
    },
    "id": "YzTlj4YdCip_",
    "outputId": "3a6e8903-1f18-4229-c882-3f2907fcb021"
   },
   "outputs": [],
   "source": [
    "# To generate GIFs\n",
    "# !pip install imageio\n",
    "# !pip install git+https://github.com/tensorflow/docs"
   ]
  },
  {
   "cell_type": "code",
   "execution_count": null,
   "metadata": {
    "id": "YfIk2es3hJEd"
   },
   "outputs": [],
   "source": [
    "import glob\n",
    "import imageio\n",
    "import matplotlib.pyplot as plt\n",
    "import numpy as np\n",
    "import os\n",
    "import PIL\n",
    "from tensorflow.keras import layers\n",
    "import time\n",
    "from IPython import display"
   ]
  },
  {
   "cell_type": "markdown",
   "metadata": {
    "id": "iYn4MdZnKCey"
   },
   "source": [
    "### Load and prepare the dataset"
   ]
  },
  {
   "cell_type": "code",
   "execution_count": null,
   "metadata": {
    "colab": {
     "base_uri": "https://localhost:8080/",
     "height": 49
    },
    "id": "a4fYMGxGhrna",
    "outputId": "b0dd5193-9b18-4c02-c7e7-afd94cc2d2fa"
   },
   "outputs": [],
   "source": [
    "(train_images, train_labels), (test_images, test_labels) = tf.keras.datasets.mnist.load_data()"
   ]
  },
  {
   "cell_type": "code",
   "execution_count": null,
   "metadata": {
    "id": "NFC2ghIdiZYE"
   },
   "outputs": [],
   "source": [
    "train_images = train_images.reshape(train_images.shape[0], 28, 28, 1).astype('float32')\n",
    "train_images = (train_images - 127.5) / 127.5 # Normalize the images to [-1, 1]\n",
    "test_images = test_images.reshape(test_images.shape[0], 28, 28, 1).astype('float32')\n",
    "test_images = (test_images - 127.5) / 127.5 # Normalize the images to [-1, 1]"
   ]
  },
  {
   "cell_type": "code",
   "execution_count": null,
   "metadata": {
    "colab": {
     "base_uri": "https://localhost:8080/",
     "height": 282
    },
    "id": "0dbweoqNIPJM",
    "outputId": "5215a475-9899-4769-ba75-b7a1af463294"
   },
   "outputs": [],
   "source": [
    "# Added som preprocessing for the \"modesets\"\n",
    "\n",
    "zeros = np.empty((sum(np.where(test_labels == 0, 1, 0)),28,28,1))\n",
    "ones = np.empty((sum(np.where(test_labels == 1, 1, 0)),28,28,1))\n",
    "twos = np.empty((sum(np.where(test_labels == 2, 1, 0)),28,28,1))\n",
    "threes = np.empty((sum(np.where(test_labels == 3, 1, 0)),28,28,1))\n",
    "fours = np.empty((sum(np.where(test_labels == 4, 1, 0)),28,28,1))\n",
    "fives = np.empty((sum(np.where(test_labels == 5, 1, 0)),28,28,1))\n",
    "sixs = np.empty((sum(np.where(test_labels == 6, 1, 0)),28,28,1))\n",
    "sevens = np.empty((sum(np.where(test_labels == 7, 1, 0)),28,28,1))\n",
    "eights = np.empty((sum(np.where(test_labels == 8, 1, 0)),28,28,1))\n",
    "\n",
    "# Fix this!! now they are empty...\n",
    "i0, i1, i2 , i3, i4, i5, i6, i7, i8 = 0, 0, 0, 0, 0, 0, 0, 0, 0\n",
    "for label, image in zip(test_labels, test_images):\n",
    "  if label == 0:\n",
    "    zeros[i0,:,:,:] = image\n",
    "    i0 +=1\n",
    "  elif label == 1:\n",
    "    ones[i1,:,:,:] = image\n",
    "    i1 +=1\n",
    "  elif label == 2:\n",
    "    twos[i2,:,:,:] = image\n",
    "    i2 +=1\n",
    "  elif label == 3:\n",
    "    threes[i3,:,:,:] = image\n",
    "    i3 +=1\n",
    "  elif label == 4:\n",
    "    fours[i4,:,:,:] = image\n",
    "    i4 +=1\n",
    "  elif label == 5:\n",
    "    fives[i5,:,:,:] = image\n",
    "    i5 +=1\n",
    "  elif label == 7:\n",
    "    sevens[i7,:,:,:] = image\n",
    "    i7 +=1\n",
    "  elif label == 8:\n",
    "    eights[i8,:,:,:] = image\n",
    "    i8 +=1\n",
    "    \n",
    "all_modes = [zeros, ones, sevens, eights]\n",
    "all_others = [twos, threes, fours, fives]\n",
    "\n",
    "for i in range(4):\n",
    "    plt.subplot(2, 2, i+1)\n",
    "    img = all_modes[i][0, :, :, 0]\n",
    "    plt.imshow(img * 127.5 + 127.5, cmap='gray')\n",
    "    plt.axis('off')\n",
    "plt.show()\n",
    "\n",
    "for i in range(4):\n",
    "    plt.subplot(2, 2, i+1)\n",
    "    img = all_others[i][0, :, :, 0]\n",
    "    plt.imshow(img * 127.5 + 127.5, cmap='gray')\n",
    "    plt.axis('off')\n",
    "plt.show()\n"
   ]
  },
  {
   "cell_type": "code",
   "execution_count": null,
   "metadata": {
    "id": "S4PIDhoDLbsZ"
   },
   "outputs": [],
   "source": [
    "BUFFER_SIZE = 60000\n",
    "BATCH_SIZE = 256"
   ]
  },
  {
   "cell_type": "code",
   "execution_count": null,
   "metadata": {
    "id": "-yKCCQOoJ7cn"
   },
   "outputs": [],
   "source": [
    "# Batch and shuffle the data\n",
    "train_dataset = tf.data.Dataset.from_tensor_slices(train_images).shuffle(BUFFER_SIZE).batch(BATCH_SIZE)"
   ]
  },
  {
   "cell_type": "markdown",
   "metadata": {
    "id": "THY-sZMiQ4UV"
   },
   "source": [
    "## Create the models"
   ]
  },
  {
   "cell_type": "markdown",
   "metadata": {
    "id": "-tEyxE-GMC48"
   },
   "source": [
    "### The Generator"
   ]
  },
  {
   "cell_type": "code",
   "execution_count": null,
   "metadata": {
    "id": "6bpTcDqoLWjY"
   },
   "outputs": [],
   "source": [
    "def make_generator_model():\n",
    "    model = tf.keras.Sequential()\n",
    "    model.add(layers.Dense(7*7*256, use_bias=False, input_shape=(100,)))\n",
    "    model.add(layers.BatchNormalization())\n",
    "    model.add(layers.LeakyReLU())\n",
    "\n",
    "    model.add(layers.Reshape((7, 7, 256)))\n",
    "    assert model.output_shape == (None, 7, 7, 256) # Note: None is the batch size\n",
    "\n",
    "    model.add(layers.Conv2DTranspose(128, (5, 5), strides=(1, 1), padding='same', use_bias=False))\n",
    "    assert model.output_shape == (None, 7, 7, 128)\n",
    "    model.add(layers.BatchNormalization())\n",
    "    model.add(layers.LeakyReLU())\n",
    "\n",
    "    model.add(layers.Conv2DTranspose(64, (5, 5), strides=(2, 2), padding='same', use_bias=False))\n",
    "    assert model.output_shape == (None, 14, 14, 64)\n",
    "    model.add(layers.BatchNormalization())\n",
    "    model.add(layers.LeakyReLU())\n",
    "\n",
    "    model.add(layers.Conv2DTranspose(1, (5, 5), strides=(2, 2), padding='same', use_bias=False, activation='tanh'))\n",
    "    assert model.output_shape == (None, 28, 28, 1)\n",
    "\n",
    "    return model"
   ]
  },
  {
   "cell_type": "markdown",
   "metadata": {
    "id": "GyWgG09LCSJl"
   },
   "source": [
    "### Test the generator"
   ]
  },
  {
   "cell_type": "code",
   "execution_count": null,
   "metadata": {
    "colab": {
     "base_uri": "https://localhost:8080/",
     "height": 282
    },
    "id": "gl7jcC7TdPTG",
    "outputId": "186d7ee9-88e8-42e9-d0ff-90da4ab326e2"
   },
   "outputs": [],
   "source": [
    "generator = make_generator_model()\n",
    "\n",
    "noise = tf.random.normal([1, 100])\n",
    "generated_image = generator(noise, training=False)\n",
    "\n",
    "plt.imshow(generated_image[0, :, :, 0], cmap='gray')\n",
    "#generated_image[0, :, :, 0]"
   ]
  },
  {
   "cell_type": "markdown",
   "metadata": {
    "id": "D0IKnaCtg6WE"
   },
   "source": [
    "### The Discriminator\n",
    "\n",
    "The discriminator is a CNN-based image classifier."
   ]
  },
  {
   "cell_type": "code",
   "execution_count": null,
   "metadata": {
    "id": "dw2tPLmk2pEP"
   },
   "outputs": [],
   "source": [
    "def make_discriminator_model():\n",
    "    model = tf.keras.Sequential()\n",
    "    model.add(layers.Conv2D(64, (5, 5), strides=(2, 2), padding='same',\n",
    "                                     input_shape=[28, 28, 1]))\n",
    "    model.add(layers.LeakyReLU())\n",
    "    model.add(layers.Dropout(0.3))\n",
    "\n",
    "    model.add(layers.Conv2D(128, (10, 10), strides=(2, 2), padding='same'))\n",
    "    model.add(layers.LeakyReLU())\n",
    "    model.add(layers.Dropout(0.3))\n",
    "\n",
    "    model.add(layers.Flatten())\n",
    "    model.add(layers.Dense(2)) # changed\n",
    "    model.add(layers.Softmax(axis=-1))\n",
    "\n",
    "    return model"
   ]
  },
  {
   "cell_type": "code",
   "execution_count": null,
   "metadata": {
    "id": "41g8aBM_gVEo"
   },
   "outputs": [],
   "source": []
  },
  {
   "cell_type": "markdown",
   "metadata": {
    "id": "QhPneagzCaQv"
   },
   "source": [
    "Use the (as yet untrained) discriminator to classify the generated images as real or fake. The model will be trained to output positive values for real images, and negative values for fake images."
   ]
  },
  {
   "cell_type": "code",
   "execution_count": null,
   "metadata": {
    "colab": {
     "base_uri": "https://localhost:8080/",
     "height": 33
    },
    "id": "gDkA05NE6QMs",
    "outputId": "5b9bffb0-5c8d-4ee5-dfa6-4bb3bf47d81c"
   },
   "outputs": [],
   "source": [
    "discriminator = make_discriminator_model()\n",
    "decision = discriminator(generated_image)\n",
    "print(generated_image.shape)\n",
    "print (decision[0].numpy())"
   ]
  },
  {
   "cell_type": "code",
   "execution_count": null,
   "metadata": {
    "colab": {
     "base_uri": "https://localhost:8080/",
     "height": 412
    },
    "id": "j-hCidCbgXgv",
    "outputId": "ba248164-cfcf-408d-a598-286aaa6257ee"
   },
   "outputs": [],
   "source": [
    "discriminator.summary()"
   ]
  },
  {
   "cell_type": "markdown",
   "metadata": {
    "id": "0FMYgY_mPfTi"
   },
   "source": [
    "## Define the loss and optimizers\n",
    "\n",
    "Define loss functions and optimizers for both models.\n"
   ]
  },
  {
   "cell_type": "code",
   "execution_count": null,
   "metadata": {
    "id": "psQfmXxYKU3X"
   },
   "outputs": [],
   "source": [
    "# This method returns a helper function to compute cross entropy loss\n",
    "cross_entropy = tf.keras.losses.BinaryCrossentropy(from_logits=True)\n",
    "cat_cross_entropy = tf.keras.losses.CategoricalCrossentropy()"
   ]
  },
  {
   "cell_type": "markdown",
   "metadata": {
    "id": "PKY_iPSPNWoj"
   },
   "source": [
    "### Discriminator loss\n",
    "\n",
    "This method quantifies how well the discriminator is able to distinguish real images from fakes. It compares the discriminator's predictions on real images to an array of 1s, and the discriminator's predictions on fake (generated) images to an array of 0s."
   ]
  },
  {
   "cell_type": "code",
   "execution_count": null,
   "metadata": {
    "id": "wkMNfBWlT-PV"
   },
   "outputs": [],
   "source": [
    "# Modifying this so we have one_hot encoding instead of single class logit\n",
    "# [0, 1] = Real, [1, 0] = Fake\n",
    "\n",
    "def discriminator_loss(real_output, fake_output):\n",
    "    # need to convert to one hot..\n",
    "    indices = tf.zeros_like(real_output[:,0])\n",
    "    depth = 2\n",
    "    real_one_hot = tf.one_hot(tf.cast(indices, dtype=tf.int32), depth) \n",
    "    indices = tf.ones_like(fake_output[:,0])\n",
    "    fake_one_hot = tf.one_hot(tf.cast(indices, dtype=tf.int32), depth) \n",
    "    real_loss = cat_cross_entropy(real_one_hot, real_output)\n",
    "    fake_loss = cat_cross_entropy(fake_one_hot, fake_output)\n",
    "    \n",
    "    #real_loss = cross_entropy(tf.ones_like(real_output), real_output)\n",
    "    #fake_loss = cross_entropy(tf.zeros_like(fake_output), fake_output)\n",
    "    total_loss = real_loss + fake_loss\n",
    "    return total_loss"
   ]
  },
  {
   "cell_type": "markdown",
   "metadata": {
    "id": "Jd-3GCUEiKtv"
   },
   "source": [
    "### Generator loss\n",
    "The generator's loss quantifies how well it was able to trick the discriminator. Intuitively, if the generator is performing well, the discriminator will classify the fake images as real (or 1). Here, we will compare the discriminators decisions on the generated images to an array of 1s."
   ]
  },
  {
   "cell_type": "code",
   "execution_count": null,
   "metadata": {
    "id": "90BIcCKcDMxz"
   },
   "outputs": [],
   "source": [
    "def generator_loss(fake_output):\n",
    "    return cross_entropy(tf.ones_like(fake_output), fake_output)"
   ]
  },
  {
   "cell_type": "markdown",
   "metadata": {
    "id": "MgIc7i0th_Iu"
   },
   "source": [
    "The discriminator and the generator optimizers are different since we will train two networks separately."
   ]
  },
  {
   "cell_type": "code",
   "execution_count": null,
   "metadata": {
    "id": "iWCn_PVdEJZ7"
   },
   "outputs": [],
   "source": [
    "generator_optimizer = tf.keras.optimizers.Adam(1e-4)\n",
    "discriminator_optimizer = tf.keras.optimizers.Adam(1e-4)"
   ]
  },
  {
   "cell_type": "markdown",
   "metadata": {
    "id": "mWtinsGDPJlV"
   },
   "source": [
    "### Save checkpoints\n",
    "This notebook also demonstrates how to save and restore models, which can be helpful in case a long running training task is interrupted."
   ]
  },
  {
   "cell_type": "code",
   "execution_count": null,
   "metadata": {
    "id": "CA1w-7s2POEy"
   },
   "outputs": [],
   "source": [
    "checkpoint_dir = './training_checkpoints'\n",
    "checkpoint_prefix = os.path.join(checkpoint_dir, \"ckpt\")\n",
    "checkpoint = tf.train.Checkpoint(generator_optimizer=generator_optimizer,\n",
    "                                 discriminator_optimizer=discriminator_optimizer,\n",
    "                                 generator=generator,\n",
    "                                 discriminator=discriminator)"
   ]
  },
  {
   "cell_type": "markdown",
   "metadata": {
    "id": "Rw1fkAczTQYh"
   },
   "source": [
    "## Define the training loop\n"
   ]
  },
  {
   "cell_type": "code",
   "execution_count": null,
   "metadata": {
    "id": "NS2GWywBbAWo"
   },
   "outputs": [],
   "source": [
    "EPOCHS = 50\n",
    "noise_dim = 100\n",
    "num_examples_to_generate = 16\n",
    "\n",
    "# We will reuse this seed overtime (so it's easier)\n",
    "# to visualize progress in the animated GIF)\n",
    "seed = tf.random.normal([num_examples_to_generate, noise_dim])"
   ]
  },
  {
   "cell_type": "markdown",
   "metadata": {
    "id": "jylSonrqSWfi"
   },
   "source": [
    "The training loop begins with generator receiving a random seed as input. That seed is used to produce an image. The discriminator is then used to classify real images (drawn from the training set) and fakes images (produced by the generator). The loss is calculated for each of these models, and the gradients are used to update the generator and discriminator."
   ]
  },
  {
   "cell_type": "code",
   "execution_count": null,
   "metadata": {
    "id": "3t5ibNo05jCB"
   },
   "outputs": [],
   "source": [
    "# Notice the use of `tf.function`\n",
    "# This annotation causes the function to be \"compiled\".\n",
    "@tf.function\n",
    "def train_step(images):\n",
    "    noise = tf.random.normal([BATCH_SIZE, noise_dim])\n",
    "\n",
    "    with tf.GradientTape() as gen_tape, tf.GradientTape() as disc_tape:\n",
    "      generated_images = generator(noise, training=True)\n",
    "      real_output = discriminator(images, training=True)\n",
    "      fake_output = discriminator(generated_images, training=True)\n",
    "\n",
    "      gen_loss = generator_loss(fake_output)\n",
    "      disc_loss = discriminator_loss(real_output, fake_output)\n",
    "\n",
    "    gradients_of_generator = gen_tape.gradient(gen_loss, generator.trainable_variables)\n",
    "    gradients_of_discriminator = disc_tape.gradient(disc_loss, discriminator.trainable_variables)\n",
    "\n",
    "    generator_optimizer.apply_gradients(zip(gradients_of_generator, generator.trainable_variables))\n",
    "    discriminator_optimizer.apply_gradients(zip(gradients_of_discriminator, discriminator.trainable_variables))"
   ]
  },
  {
   "cell_type": "code",
   "execution_count": null,
   "metadata": {
    "id": "iSx60C3AHi6v"
   },
   "outputs": [],
   "source": []
  },
  {
   "cell_type": "code",
   "execution_count": null,
   "metadata": {
    "id": "2M7LmLtGEMQJ"
   },
   "outputs": [],
   "source": [
    "def train(dataset, epochs, mode = False, modeset = None):\n",
    "  for epoch in range(epochs):\n",
    "    start = time.time()\n",
    "\n",
    "    for image_batch in dataset:\n",
    "      if mode:\n",
    "        train_step_with_mode(image_batch, modeset)\n",
    "      else:\n",
    "        train_step(image_batch)\n",
    "\n",
    "    # Produce images for the GIF as we go\n",
    "    display.clear_output(wait=True)\n",
    "    generate_and_save_images(generator,\n",
    "                             discriminator,\n",
    "                             epoch + 1,\n",
    "                             seed)\n",
    "\n",
    "    # Save the model every 15 epochs\n",
    "    if (epoch + 1) % 15 == 0:\n",
    "      checkpoint.save(file_prefix = checkpoint_prefix)\n",
    "\n",
    "    print ('Time for epoch {} is {} sec'.format(epoch + 1, time.time()-start))\n",
    "\n",
    "  # Generate after the final epoch\n",
    "  display.clear_output(wait=True)\n",
    "  generate_and_save_images(generator,\n",
    "                           discriminator,\n",
    "                           epochs,\n",
    "                           seed)"
   ]
  },
  {
   "cell_type": "markdown",
   "metadata": {
    "id": "2aFF7Hk3XdeW"
   },
   "source": [
    "**Generate and save images**\n"
   ]
  },
  {
   "cell_type": "markdown",
   "metadata": {
    "id": "UEiDG2qR1aSp"
   },
   "source": [
    "**Added GradCAM heatmaps to generated images**\n"
   ]
  },
  {
   "cell_type": "code",
   "execution_count": null,
   "metadata": {
    "id": "PmC4isE7veMK"
   },
   "outputs": [],
   "source": [
    "# Grad-CAM helper functions\n",
    "from tensorflow.keras.preprocessing.image import img_to_array\n",
    "import cv2\n",
    "\n",
    "def apply_cmap(heatmap, cmap):\n",
    "    cmap = getattr(cv2, cmap)\n",
    "    heatmap = (heatmap * 255).astype(\"uint8\")\n",
    "    heatmap = cv2.applyColorMap(heatmap, cmap)\n",
    "\n",
    "    return heatmap\n",
    "\n",
    "def resize_heatmap(img, heatmap_lower_dim):\n",
    "    '''\n",
    "    resizes the heatmap to the same size as the original image\n",
    "    '''\n",
    "\n",
    "    img = img_to_array(img)\n",
    "    heatmap = np.squeeze(heatmap_lower_dim)\n",
    "    heatmap = cv2.resize(heatmap, (img.shape[1], img.shape[0]))\n",
    "    heatmap = -1*heatmap +1\n",
    "    heatmap = np.clip(heatmap, 0., 1.)\n",
    "\n",
    "    return heatmap"
   ]
  },
  {
   "cell_type": "code",
   "execution_count": null,
   "metadata": {
    "id": "RmdVsmvhPxyy"
   },
   "outputs": [],
   "source": [
    "def generate_and_save_images(model, d_model, epoch, test_input):\n",
    "  # Notice `training` is set to False.\n",
    "  # This is so all layers run in inference mode (batchnorm).\n",
    "    \n",
    "  from explanation_models import gradcam\n",
    "  \n",
    "  # Setting up for plotting\n",
    "  # Three generated, three real, two real similar to mode and the mode\n",
    "  test_input_crop = test_input[:3,:] \n",
    "  g_plot_imgs = model(test_input_crop, training=False)\n",
    "  predictions = tf.concat([g_plot_imgs, twos[:1,:,:,:], threes[:1,:,:,:], fours[:1,:,:,:], similar_set[:2, :, :, :], modeset[:1, :, :, :]], axis = 0)\n",
    "  print(predictions.shape)\n",
    "  fig = plt.figure(figsize=(3,3))\n",
    "\n",
    "  for i in range(predictions.shape[0]):\n",
    "      plt.subplot(3, 3, i+1)\n",
    "      plt.imshow(predictions[i, :, :, 0] * 127.5 + 127.5, cmap='gray')\n",
    "      plt.axis('off')\n",
    "\n",
    "  plt.savefig('image_at_epoch_{:04d}.png'.format(epoch))\n",
    "  plt.show()\n",
    "\n",
    "  \n",
    "  # Grad-CAM heatmaps\n",
    "  input_dim=(28,28)\n",
    "  layer_name='conv2d_5' # Sometimes this changes\n",
    "  g = gradcam(d_model,layer_name,input_dim)\n",
    "  fig = plt.figure(figsize=(3,3))\n",
    "  for i in range(predictions.shape[0]):\n",
    "    plt.subplot(3, 3, i+1)\n",
    "    img_input = predictions[i:i+1, :, :, 0]\n",
    "    img = predictions[i, :, :, 0]\n",
    "    heatmap = g.get_heatmap(img_input, index = 0, CounterfactualExp = False)\n",
    "    heatmap = resize_heatmap(img, heatmap)\n",
    "    heatmap = apply_cmap(heatmap, cmap='COLORMAP_JET')\n",
    "    plt.imshow(heatmap)\n",
    "    title = \"{:.2f}\".format(d_model(predictions[i:i+1, :, :, 0]).numpy()[0][0])\n",
    "    if i == 8:\n",
    "        title += \" (mode)\"\n",
    "    plt.title(title, fontsize=10)\n",
    "    plt.axis('off')\n",
    "  plt.savefig('heatmap_at_epoch_{:04d}.png'.format(epoch))\n",
    "  plt.subplots_adjust(top=1)\n",
    "  plt.show()\n",
    "    \n",
    "  fig = plt.figure(figsize=(3,3))\n",
    "  for i in range(predictions.shape[0]):\n",
    "    plt.subplot(3, 3, i+1)\n",
    "    img_input = predictions[i:i+1, :, :, 0]\n",
    "    img = predictions[i, :, :, 0]\n",
    "    heatmap = g.get_heatmap(img_input, index = 1, CounterfactualExp = False)\n",
    "    heatmap = resize_heatmap(img, heatmap)\n",
    "    heatmap = apply_cmap(heatmap, cmap='COLORMAP_JET')\n",
    "    plt.imshow(heatmap)\n",
    "    title = \"{:.2f}\".format(d_model(predictions[i:i+1, :, :, 0]).numpy()[0][0])\n",
    "    if i == 8:\n",
    "        title += \" (mode)\"\n",
    "    plt.title(title, fontsize=10)\n",
    "    plt.axis('off')\n",
    "  plt.subplots_adjust(top=1)\n",
    "  plt.show()"
   ]
  },
  {
   "cell_type": "code",
   "execution_count": null,
   "metadata": {
    "id": "165M2P8nthMy"
   },
   "outputs": [],
   "source": [
    "#\n",
    "\n",
    "@tf.function\n",
    "def train_step_with_mode(images, modeset, split = 256):\n",
    "    # We are splitting the batch in two and only generating half\n",
    "    generated_size = BATCH_SIZE // split\n",
    "    mode_size = BATCH_SIZE #- generated_size\n",
    "    noise = tf.random.normal([generated_size, noise_dim])\n",
    "    \n",
    "    # The other half is drawn randomly from our modeset\n",
    "    idx = np.random.randint(modeset.shape[0], size=mode_size)\n",
    "    # Not working!\n",
    "    modes = tf.cast(tf.gather(modeset, idx), dtype = tf.float32)\n",
    "    #modes = tf.constant(modeset[idx,:], dtype = tf.float32) \n",
    "    \n",
    "    with tf.GradientTape() as gen_tape, tf.GradientTape() as disc_tape:\n",
    "      generated_images = generator(noise, training=False)\n",
    "\n",
    "      # Mixing generated images with images from the modeset to get a batch\n",
    "      #mixed_images = tf.concat([modes,generated_images], axis = 0)\n",
    "      mixed_images = modes\n",
    "      real_output = discriminator(images, training=True)\n",
    "\n",
    "      # We are using the mixed imageset as fake input for the discriminator\n",
    "      fake_output = discriminator(mixed_images, training=True)\n",
    "\n",
    "      gen_loss = generator_loss(fake_output)\n",
    "\n",
    "      # Loss stays the same\n",
    "      # Ie the discriminator should train to see the mode as fake\n",
    "      disc_loss = discriminator_loss(real_output, fake_output)\n",
    "\n",
    "    #gradients_of_generator = gen_tape.gradient(gen_loss, generator.trainable_variables)\n",
    "    gradients_of_discriminator = disc_tape.gradient(disc_loss, discriminator.trainable_variables)\n",
    "\n",
    "    #generator_optimizer.apply_gradients(zip(gradients_of_generator, generator.trainable_variables))\n",
    "    discriminator_optimizer.apply_gradients(zip(gradients_of_discriminator, discriminator.trainable_variables))"
   ]
  },
  {
   "cell_type": "code",
   "execution_count": null,
   "metadata": {},
   "outputs": [],
   "source": []
  },
  {
   "cell_type": "markdown",
   "metadata": {
    "id": "dZrd4CdjR-Fp"
   },
   "source": [
    "## Train the model"
   ]
  },
  {
   "cell_type": "code",
   "execution_count": null,
   "metadata": {},
   "outputs": [],
   "source": []
  },
  {
   "cell_type": "code",
   "execution_count": null,
   "metadata": {},
   "outputs": [],
   "source": [
    "discriminator = tf.keras.models.load_model('d_trained_no_mode_1') \n",
    "generator = tf.keras.models.load_model('g_trained_no_mode_1')"
   ]
  },
  {
   "cell_type": "code",
   "execution_count": null,
   "metadata": {
    "colab": {
     "base_uri": "https://localhost:8080/",
     "height": 742
    },
    "id": "bO4MvvRBldot",
    "outputId": "90b5aa6c-8530-4c1f-850c-12a1dfe16c8e"
   },
   "outputs": [],
   "source": [
    "# First we train normally for a couple of epochs\n",
    "EPOCHS=1\n",
    "modeset = sevens[2:3,:,:,:]\n",
    "similar_set = sevens\n",
    "train(train_dataset, EPOCHS)"
   ]
  },
  {
   "cell_type": "code",
   "execution_count": null,
   "metadata": {},
   "outputs": [],
   "source": [
    "# Saving the model that has not seen the mode\n",
    "# discriminator.save('d_trained_no_mode_1') \n",
    "# generator.save('g_trained_no_mode_1')"
   ]
  },
  {
   "cell_type": "code",
   "execution_count": null,
   "metadata": {},
   "outputs": [],
   "source": [
    "# Lowering the learning rate to easier observe behaviour (need to rerun @tf above before using these)\n",
    "# generator_optimizer = tf.keras.optimizers.Adam(1e-5)\n",
    "# discriminator_optimizer = tf.keras.optimizers.Adam(1e-5)"
   ]
  },
  {
   "cell_type": "code",
   "execution_count": null,
   "metadata": {
    "colab": {
     "base_uri": "https://localhost:8080/",
     "height": 211
    },
    "id": "Ly3UN0SLLY2l",
    "outputId": "01272f73-ebe2-4d07-8e27-f6a2ff3820b1"
   },
   "outputs": [],
   "source": [
    "# Then we train with the synthetic mode\n",
    "modeset = sevens[3:4,:,:,:]\n",
    "similar_set = sevens\n",
    "EPOCHS = 1\n",
    "train(train_dataset, EPOCHS, mode = True, modeset = modeset)"
   ]
  },
  {
   "cell_type": "code",
   "execution_count": null,
   "metadata": {},
   "outputs": [],
   "source": [
    "# Then we train with the synthetic mode\n",
    "modeset = zeros[3:4,:,:,:]\n",
    "similar_set = zeros\n",
    "EPOCHS = 1\n",
    "train(train_dataset, EPOCHS, mode = True, modeset = modeset)"
   ]
  },
  {
   "cell_type": "code",
   "execution_count": null,
   "metadata": {},
   "outputs": [],
   "source": [
    "# Then we train with the synthetic mode\n",
    "modeset = eights[3:4,:,:,:]\n",
    "similar_set = eights\n",
    "EPOCHS = 1\n",
    "train(train_dataset, EPOCHS, mode = True, modeset = modeset)"
   ]
  },
  {
   "cell_type": "code",
   "execution_count": null,
   "metadata": {},
   "outputs": [],
   "source": [
    "# Then we train with the synthetic mode\n",
    "modeset = ones[3:4,:,:,:]\n",
    "similar_set = ones\n",
    "EPOCHS = 1\n",
    "train(train_dataset, EPOCHS, mode = True, modeset = modeset)"
   ]
  },
  {
   "cell_type": "markdown",
   "metadata": {
    "id": "rfM4YcPVPkNO"
   },
   "source": [
    "Restore the latest checkpoint."
   ]
  },
  {
   "cell_type": "code",
   "execution_count": null,
   "metadata": {
    "colab": {
     "base_uri": "https://localhost:8080/",
     "height": 34
    },
    "id": "XhXsd0srPo8c",
    "outputId": "dd016117-891c-43a5-f9d3-9fc34d7c515c"
   },
   "outputs": [],
   "source": [
    "checkpoint.restore(tf.train.latest_checkpoint(checkpoint_dir))"
   ]
  },
  {
   "cell_type": "markdown",
   "metadata": {
    "id": "P4M_vIbUi7c0"
   },
   "source": [
    "## Create a GIF\n"
   ]
  },
  {
   "cell_type": "code",
   "execution_count": null,
   "metadata": {
    "id": "WfO5wCdclHGL"
   },
   "outputs": [],
   "source": [
    "# Display a single image using the epoch number\n",
    "def display_image(epoch_no):\n",
    "  return PIL.Image.open('image_at_epoch_{:04d}.png'.format(epoch_no))"
   ]
  },
  {
   "cell_type": "code",
   "execution_count": null,
   "metadata": {
    "colab": {
     "base_uri": "https://localhost:8080/",
     "height": 305
    },
    "id": "5x3q9_Oe5q0A",
    "outputId": "25e382c5-5cdd-4a7d-d4aa-92f88b82699c"
   },
   "outputs": [],
   "source": [
    "display_image(EPOCHS)"
   ]
  },
  {
   "cell_type": "markdown",
   "metadata": {
    "id": "NywiH3nL8guF"
   },
   "source": [
    "Use `imageio` to create an animated gif using the images saved during training."
   ]
  },
  {
   "cell_type": "code",
   "execution_count": null,
   "metadata": {
    "id": "IGKQgENQ8lEI"
   },
   "outputs": [],
   "source": [
    "anim_file = 'dcgan.gif'\n",
    "\n",
    "with imageio.get_writer(anim_file, mode='I') as writer:\n",
    "  filenames = glob.glob('image*.png')\n",
    "  filenames = sorted(filenames)\n",
    "  for filename in filenames:\n",
    "    image = imageio.imread(filename)\n",
    "    writer.append_data(image)\n",
    "  image = imageio.imread(filename)\n",
    "  writer.append_data(image)\n",
    "\n",
    "anim_file = 'dcgan_heatmap.gif'\n",
    "\n",
    "with imageio.get_writer(anim_file, mode='I') as writer:\n",
    "  filenames = glob.glob('heatmap*.png')\n",
    "  filenames = sorted(filenames)\n",
    "  for filename in filenames:\n",
    "    image = imageio.imread(filename)\n",
    "    writer.append_data(image)\n",
    "  image = imageio.imread(filename)\n",
    "  writer.append_data(image)"
   ]
  },
  {
   "cell_type": "code",
   "execution_count": null,
   "metadata": {
    "colab": {
     "base_uri": "https://localhost:8080/",
     "height": 309
    },
    "id": "ZBwyU6t2Wf3g",
    "outputId": "db1d156b-ca58-4d82-d343-a6b33ccabaa5"
   },
   "outputs": [],
   "source": [
    "import tensorflow_docs.vis.embed as embed\n",
    "embed.embed_file(anim_file)"
   ]
  },
  {
   "cell_type": "code",
   "execution_count": null,
   "metadata": {
    "id": "YVtvtCt778nt"
   },
   "outputs": [],
   "source": [
    "!rm dc*"
   ]
  },
  {
   "cell_type": "markdown",
   "metadata": {
    "id": "k6qC-SbjK0yW"
   },
   "source": [
    "\n"
   ]
  },
  {
   "cell_type": "markdown",
   "metadata": {
    "id": "xjjkT9KAK6H7"
   },
   "source": [
    "\n"
   ]
  }
 ],
 "metadata": {
  "accelerator": "GPU",
  "colab": {
   "collapsed_sections": [],
   "name": "dcgan with gradcam.ipynb",
   "provenance": []
  },
  "kernelspec": {
   "display_name": "Python 3",
   "language": "python",
   "name": "python3"
  },
  "language_info": {
   "codemirror_mode": {
    "name": "ipython",
    "version": 3
   },
   "file_extension": ".py",
   "mimetype": "text/x-python",
   "name": "python",
   "nbconvert_exporter": "python",
   "pygments_lexer": "ipython3",
   "version": "3.8.5"
  }
 },
 "nbformat": 4,
 "nbformat_minor": 1
}
